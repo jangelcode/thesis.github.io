{
  "nbformat": 4,
  "nbformat_minor": 0,
  "metadata": {
    "colab": {
      "name": "ESA.ipynb",
      "provenance": [],
      "collapsed_sections": [],
      "toc_visible": true,
      "authorship_tag": "ABX9TyOWzwTBU7y07ncxv9i9P42g",
      "include_colab_link": true
    },
    "kernelspec": {
      "name": "python3",
      "display_name": "Python 3"
    }
  },
  "cells": [
    {
      "cell_type": "markdown",
      "metadata": {
        "id": "view-in-github",
        "colab_type": "text"
      },
      "source": [
        "<a href=\"https://colab.research.google.com/github/jangelcode/super-duper/blob/main/honorsthesis/ESA.ipynb\" target=\"_parent\"><img src=\"https://colab.research.google.com/assets/colab-badge.svg\" alt=\"Open In Colab\"/></a>"
      ]
    },
    {
      "cell_type": "code",
      "metadata": {
        "id": "AlthVEURE62k"
      },
      "source": [
        "import pandas as pd\n",
        "import statsmodels.api as sm\n",
        "from statsmodels.stats.outliers_influence import variance_inflation_factor\n",
        "import matplotlib.pyplot as plt"
      ],
      "execution_count": null,
      "outputs": []
    },
    {
      "cell_type": "markdown",
      "metadata": {
        "id": "o1XZxE8zkIFd"
      },
      "source": [
        "# Setting up the Data"
      ]
    },
    {
      "cell_type": "code",
      "metadata": {
        "id": "Fq3Dz_PqE-qI",
        "colab": {
          "base_uri": "https://localhost:8080/",
          "height": 330
        },
        "outputId": "8753313d-76dd-421f-d809-9e5016838422"
      },
      "source": [
        "data = pd.read_csv(\"ESA_District_NoPriv.csv\")\n",
        "df = pd.DataFrame(data)\n",
        "print(df.head())\n",
        "dataTypeSeries = data.dtypes\n",
        "print(dataTypeSeries)"
      ],
      "execution_count": null,
      "outputs": [
        {
          "output_type": "stream",
          "text": [
            "      School District or Charter Holder  ... Average Scholarship\n",
            "0  Agua Fria Union High School District  ...            24743.36\n",
            "1                  Ajo Unified District  ...             7252.13\n",
            "2          Alhambra Elementary District  ...            10425.30\n",
            "3      Altar Valley Elementary District  ...            16582.20\n",
            "4         Amphitheater Unified District  ...            11945.08\n",
            "\n",
            "[5 rows x 9 columns]\n",
            "School District or Charter Holder                           object\n",
            "Percent DF Schools                                          object\n",
            "Poverty Rate                                                object\n",
            "Special Ed Population                                       object\n",
            "Students in District                                         int64\n",
            "Spending Per Pupil                                           int64\n",
            "Total Value of ESA Scholarships                            float64\n",
            "Students using ESA to leave district for private school      int64\n",
            "Average Scholarship                                        float64\n",
            "dtype: object\n"
          ],
          "name": "stdout"
        }
      ]
    },
    {
      "cell_type": "markdown",
      "metadata": {
        "id": "9wvlHolbFHhh"
      },
      "source": [
        "Two data points have NA's so I am dropping them from the data set.\n",
        "\n",
        "I'm also creating the ESA participation rate by dividing students using the program by total students in the district."
      ]
    },
    {
      "cell_type": "code",
      "metadata": {
        "id": "VcNLIi5DE_Av"
      },
      "source": [
        "df = df.drop([7,12])\n",
        "df[\"ESA_Part_Rate\"] = df['Students using ESA to leave district for private school']/df['Students in District']"
      ],
      "execution_count": null,
      "outputs": []
    },
    {
      "cell_type": "markdown",
      "metadata": {
        "id": "1pLpZ0R2FZxd"
      },
      "source": [
        "Because the data contained some NA values some of the columns had data type object instead of numeric"
      ]
    },
    {
      "cell_type": "code",
      "metadata": {
        "id": "O6oxRrudE_Ih",
        "colab": {
          "base_uri": "https://localhost:8080/",
          "height": 173
        },
        "outputId": "1665fe4a-5add-4d79-e0f1-23cc5282fb05"
      },
      "source": [
        "import statistics as stat\n",
        "df['ESA_Part_Rate'] = pd.to_numeric(df['ESA_Part_Rate'])\n",
        "df['Poverty Rate'] = pd.to_numeric(df['Poverty Rate'])\n",
        "df['Special Ed Population'] = pd.to_numeric(df['Special Ed Population'])\n",
        "df['Percent DF Schools'] = pd.to_numeric(df['Percent DF Schools'])\n",
        "print(df.head())\n",
        "stat.median(df['Poverty Rate'])"
      ],
      "execution_count": null,
      "outputs": [
        {
          "output_type": "stream",
          "text": [
            "      School District or Charter Holder  ...  ESA_Part_Rate\n",
            "0  Agua Fria Union High School District  ...       0.002297\n",
            "1                  Ajo Unified District  ...       0.002375\n",
            "2          Alhambra Elementary District  ...       0.002346\n",
            "3      Altar Valley Elementary District  ...       0.003289\n",
            "4         Amphitheater Unified District  ...       0.006086\n",
            "\n",
            "[5 rows x 10 columns]\n"
          ],
          "name": "stdout"
        },
        {
          "output_type": "execute_result",
          "data": {
            "text/plain": [
              "0.215"
            ]
          },
          "metadata": {
            "tags": []
          },
          "execution_count": 5
        }
      ]
    },
    {
      "cell_type": "markdown",
      "metadata": {
        "id": "teP8k903FmyL"
      },
      "source": [
        "# Regression Set up\n",
        "\n",
        "The special ed population and percent D/F grade schools should be useful controls since \"of 692 students using ESAs in March 2014, 549 are students with a disability, 92 attend D/F schools, 39 are foster/adopted children and 12 are children of military families.\"\n",
        "\n",
        "The main variable of interest is the impact of poverty rate on ESA Participation."
      ]
    },
    {
      "cell_type": "code",
      "metadata": {
        "id": "Z6BNAUIWE_QY"
      },
      "source": [
        "df['Povrate2'] = df['Poverty Rate']**2\n",
        "X = df[['Percent DF Schools', 'Poverty Rate', 'Special Ed Population']]"
      ],
      "execution_count": null,
      "outputs": []
    },
    {
      "cell_type": "markdown",
      "metadata": {
        "id": "My8T6uX3Fy86"
      },
      "source": [
        "## Test for multicollinearity using VIF values.\n",
        "\n",
        "The VIF shows poverty rate and special ed population explain a moderate amount of the same variation. This implies the model suffers from some multicollinearity."
      ]
    },
    {
      "cell_type": "code",
      "metadata": {
        "id": "hElt3xv7F7ad",
        "colab": {
          "base_uri": "https://localhost:8080/",
          "height": 86
        },
        "outputId": "e33ed63b-4a3a-425b-f557-fcf1de8d95d6"
      },
      "source": [
        "vif = pd.DataFrame()\n",
        "vif[\"VIF Factor\"] = [variance_inflation_factor(X.values, i) for i in range(X.shape[1])]\n",
        "vif[\"features\"] = X.columns\n",
        "print(vif.round(1))"
      ],
      "execution_count": null,
      "outputs": [
        {
          "output_type": "stream",
          "text": [
            "   VIF Factor               features\n",
            "0         1.7     Percent DF Schools\n",
            "1         5.4           Poverty Rate\n",
            "2         4.8  Special Ed Population\n"
          ],
          "name": "stdout"
        }
      ]
    },
    {
      "cell_type": "markdown",
      "metadata": {
        "id": "k_mgW0yIF-JB"
      },
      "source": [
        "## First Regression"
      ]
    },
    {
      "cell_type": "code",
      "metadata": {
        "id": "ARw60IhzGDCz",
        "colab": {
          "base_uri": "https://localhost:8080/",
          "height": 486
        },
        "outputId": "10b57588-f337-49ea-9d8b-c69e689e3dbb"
      },
      "source": [
        "X = sm.add_constant(X)\n",
        "y = df['ESA_Part_Rate']\n",
        "model1 = sm.OLS(y, X).fit(cov_type='HC3')\n",
        "print(model1.summary())\n",
        "#Y = C + Need + Rich + Need*Rich + e"
      ],
      "execution_count": null,
      "outputs": [
        {
          "output_type": "stream",
          "text": [
            "                            OLS Regression Results                            \n",
            "==============================================================================\n",
            "Dep. Variable:          ESA_Part_Rate   R-squared:                       0.157\n",
            "Model:                            OLS   Adj. R-squared:                  0.138\n",
            "Method:                 Least Squares   F-statistic:                     1.918\n",
            "Date:                Mon, 26 Oct 2020   Prob (F-statistic):              0.130\n",
            "Time:                        04:59:05   Log-Likelihood:                 451.23\n",
            "No. Observations:                 140   AIC:                            -894.5\n",
            "Df Residuals:                     136   BIC:                            -882.7\n",
            "Df Model:                           3                                         \n",
            "Covariance Type:                  HC3                                         \n",
            "=========================================================================================\n",
            "                            coef    std err          z      P>|z|      [0.025      0.975]\n",
            "-----------------------------------------------------------------------------------------\n",
            "const                     0.0017      0.006      0.299      0.765      -0.009       0.013\n",
            "Percent DF Schools        0.0133      0.006      2.329      0.020       0.002       0.025\n",
            "Poverty Rate              0.0053      0.009      0.557      0.577      -0.013       0.024\n",
            "Special Ed Population     0.0141      0.042      0.332      0.740      -0.069       0.097\n",
            "==============================================================================\n",
            "Omnibus:                      115.712   Durbin-Watson:                   1.848\n",
            "Prob(Omnibus):                  0.000   Jarque-Bera (JB):             1124.720\n",
            "Skew:                           2.960   Prob(JB):                    5.89e-245\n",
            "Kurtosis:                      15.560   Cond. No.                         33.2\n",
            "==============================================================================\n",
            "\n",
            "Warnings:\n",
            "[1] Standard Errors are heteroscedasticity robust (HC3)\n"
          ],
          "name": "stdout"
        }
      ]
    },
    {
      "cell_type": "markdown",
      "metadata": {
        "id": "pshvoQpAGQjO"
      },
      "source": [
        "# Testing the Model"
      ]
    },
    {
      "cell_type": "markdown",
      "metadata": {
        "id": "UzC5ST-sbhAF"
      },
      "source": [
        "## RESET TEST\n",
        "Testing if the model is misspecified, we use the RESET Test, assuming zero conditional mean holds.\n",
        "\n",
        "At the 5% significance level we would reject the null hypothesis that the coefficient for the square of our models predictions is equal to zero.\n",
        "\n",
        "This indicates that the model is misspecified which is not a surprise\n",
        "since only one of the variables appear to have significant coefficients."
      ]
    },
    {
      "cell_type": "code",
      "metadata": {
        "id": "tsGrGkcCGgs1",
        "colab": {
          "base_uri": "https://localhost:8080/",
          "height": 538
        },
        "outputId": "1b79e110-1bb9-46fe-e88d-ee162bd4e57a"
      },
      "source": [
        "df['predictions'] = model1.predict()\n",
        "df['predictions2'] = df['predictions']*df['predictions']\n",
        "X = df[['Poverty Rate', 'Special Ed Population', 'Percent DF Schools', 'predictions2']]\n",
        "X = sm.add_constant(X)\n",
        "y = df['ESA_Part_Rate']\n",
        "model = sm.OLS(y, X).fit()\n",
        "print(model.summary())"
      ],
      "execution_count": null,
      "outputs": [
        {
          "output_type": "stream",
          "text": [
            "                            OLS Regression Results                            \n",
            "==============================================================================\n",
            "Dep. Variable:          ESA_Part_Rate   R-squared:                       0.246\n",
            "Model:                            OLS   Adj. R-squared:                  0.224\n",
            "Method:                 Least Squares   F-statistic:                     11.03\n",
            "Date:                Mon, 26 Oct 2020   Prob (F-statistic):           9.00e-08\n",
            "Time:                        04:59:08   Log-Likelihood:                 459.10\n",
            "No. Observations:                 140   AIC:                            -908.2\n",
            "Df Residuals:                     135   BIC:                            -893.5\n",
            "Df Model:                           4                                         \n",
            "Covariance Type:            nonrobust                                         \n",
            "=========================================================================================\n",
            "                            coef    std err          t      P>|t|      [0.025      0.975]\n",
            "-----------------------------------------------------------------------------------------\n",
            "const                     0.0075      0.004      1.978      0.050   -3.61e-07       0.015\n",
            "Poverty Rate             -0.0010      0.008     -0.121      0.904      -0.017       0.015\n",
            "Special Ed Population    -0.0400      0.028     -1.428      0.156      -0.095       0.015\n",
            "Percent DF Schools       -0.0368      0.013     -2.860      0.005      -0.062      -0.011\n",
            "predictions2            173.5242     43.288      4.009      0.000      87.915     259.134\n",
            "==============================================================================\n",
            "Omnibus:                      111.801   Durbin-Watson:                   1.942\n",
            "Prob(Omnibus):                  0.000   Jarque-Bera (JB):             1163.877\n",
            "Skew:                           2.776   Prob(JB):                    1.85e-253\n",
            "Kurtosis:                      15.989   Cond. No.                     5.81e+04\n",
            "==============================================================================\n",
            "\n",
            "Warnings:\n",
            "[1] Standard Errors assume that the covariance matrix of the errors is correctly specified.\n",
            "[2] The condition number is large, 5.81e+04. This might indicate that there are\n",
            "strong multicollinearity or other numerical problems.\n"
          ],
          "name": "stdout"
        }
      ]
    },
    {
      "cell_type": "markdown",
      "metadata": {
        "id": "50MThTGTGtXk"
      },
      "source": [
        "## Residual Plots\n",
        "Check for correlation with error term in original model that would violate the zero conditional mean assumption.\n",
        "\n",
        "I would say the errors look mostly random and about 4 or 5 very large residuals make the graphs slightly deceiving.\n"
      ]
    },
    {
      "cell_type": "code",
      "metadata": {
        "id": "HBYiKCvFGxeD",
        "colab": {
          "base_uri": "https://localhost:8080/",
          "height": 295
        },
        "outputId": "5ccfe797-b0cc-4e66-b762-bb4792ee685f"
      },
      "source": [
        "z = 'Residuals'\n",
        "X = df['Poverty Rate']\n",
        "y = model1.resid\n",
        "plt.scatter(X,y)\n",
        "plt.ylabel(z)\n",
        "plt.xlabel(X.name)\n",
        "plt.title(X.name + ' vs ' + z)\n",
        "plt.show()"
      ],
      "execution_count": null,
      "outputs": [
        {
          "output_type": "display_data",
          "data": {
            "image/png": "[encoded data removed]",
            "text/plain": [
              "<Figure size 432x288 with 1 Axes>"
            ]
          },
          "metadata": {
            "tags": [],
            "needs_background": "light"
          }
        }
      ]
    },
    {
      "cell_type": "code",
      "metadata": {
        "id": "D9xPfIoUGzy5",
        "colab": {
          "base_uri": "https://localhost:8080/",
          "height": 295
        },
        "outputId": "2bfa3176-2cdd-4ac5-c58f-6bacaabbea41"
      },
      "source": [
        "X = df['Special Ed Population']\n",
        "plt.scatter(X,y)\n",
        "plt.ylabel(z)\n",
        "plt.xlabel(X.name)\n",
        "plt.title(X.name + ' vs ' + z)\n",
        "plt.show()"
      ],
      "execution_count": null,
      "outputs": [
        {
          "output_type": "display_data",
          "data": {
            "image/png": "[encoded data removed]",
            "text/plain": [
              "<Figure size 432x288 with 1 Axes>"
            ]
          },
          "metadata": {
            "tags": [],
            "needs_background": "light"
          }
        }
      ]
    },
    {
      "cell_type": "code",
      "metadata": {
        "id": "8LmPvkYtG3TO",
        "colab": {
          "base_uri": "https://localhost:8080/",
          "height": 295
        },
        "outputId": "973c579b-5a68-4f3a-aeff-189390c73be7"
      },
      "source": [
        "plt.scatter(X,y)\n",
        "plt.ylabel(z)\n",
        "plt.xlabel(X.name)\n",
        "plt.title(X.name + ' vs ' + z)\n",
        "plt.show()"
      ],
      "execution_count": null,
      "outputs": [
        {
          "output_type": "display_data",
          "data": {
            "image/png": "[encoded data removed]",
            "text/plain": [
              "<Figure size 432x288 with 1 Axes>"
            ]
          },
          "metadata": {
            "tags": [],
            "needs_background": "light"
          }
        }
      ]
    },
    {
      "cell_type": "markdown",
      "metadata": {
        "id": "Un8v7cbJKIYl"
      },
      "source": [
        "## Linearity\n",
        "\n",
        "Plotting variables against ESA participation rate to visualize relationship and check for linearity."
      ]
    },
    {
      "cell_type": "code",
      "metadata": {
        "id": "OCdE_pmWKM8X",
        "colab": {
          "base_uri": "https://localhost:8080/",
          "height": 295
        },
        "outputId": "efe056cc-8073-4628-e58a-76a029fc9c28"
      },
      "source": [
        "y = df['ESA_Part_Rate']\n",
        "z = y.name\n",
        "X = df['Poverty Rate']\n",
        "plt.scatter(X,y)\n",
        "plt.ylabel(z)\n",
        "plt.xlabel(X.name)\n",
        "plt.title(X.name + ' vs ' + z)\n",
        "plt.show()"
      ],
      "execution_count": null,
      "outputs": [
        {
          "output_type": "display_data",
          "data": {
            "image/png": "[encoded data removed]",
            "text/plain": [
              "<Figure size 432x288 with 1 Axes>"
            ]
          },
          "metadata": {
            "tags": [],
            "needs_background": "light"
          }
        }
      ]
    },
    {
      "cell_type": "code",
      "metadata": {
        "id": "IHn8FvHaKPOU",
        "colab": {
          "base_uri": "https://localhost:8080/",
          "height": 295
        },
        "outputId": "4dfc2cf2-b7bb-4729-a3bf-b4825526b099"
      },
      "source": [
        "X = df['Special Ed Population']\n",
        "plt.scatter(X,y)\n",
        "plt.ylabel(z)\n",
        "plt.xlabel(X.name)\n",
        "plt.title(X.name + ' vs ' + z)\n",
        "plt.show()"
      ],
      "execution_count": null,
      "outputs": [
        {
          "output_type": "display_data",
          "data": {
            "image/png": "[encoded data removed]",
            "text/plain": [
              "<Figure size 432x288 with 1 Axes>"
            ]
          },
          "metadata": {
            "tags": [],
            "needs_background": "light"
          }
        }
      ]
    },
    {
      "cell_type": "code",
      "metadata": {
        "id": "Np1HtVN0KTPi",
        "colab": {
          "base_uri": "https://localhost:8080/",
          "height": 295
        },
        "outputId": "9ee7b124-65bf-4911-bf18-3a1e0b3a7297"
      },
      "source": [
        "X = df['Percent DF Schools']\n",
        "plt.scatter(X,y)\n",
        "plt.ylabel(z)\n",
        "plt.xlabel(X.name)\n",
        "plt.title(X.name + ' vs ' + z)\n",
        "plt.show()"
      ],
      "execution_count": null,
      "outputs": [
        {
          "output_type": "display_data",
          "data": {
            "image/png": "[encoded data removed]",
            "text/plain": [
              "<Figure size 432x288 with 1 Axes>"
            ]
          },
          "metadata": {
            "tags": [],
            "needs_background": "light"
          }
        }
      ]
    },
    {
      "cell_type": "markdown",
      "metadata": {
        "id": "MmvaQfftQhsP"
      },
      "source": [
        "# New and Improved Model\n",
        "\n",
        "Now I will regress the ESA participation rate on the expanded form of the RESET test and remove variables with insignificant coefficients."
      ]
    },
    {
      "cell_type": "code",
      "metadata": {
        "id": "PPqT8uhCQn9q",
        "colab": {
          "base_uri": "https://localhost:8080/",
          "height": 590
        },
        "outputId": "9ba5857c-8a9f-402a-e069-83cf38c1bd06"
      },
      "source": [
        "a = df['Poverty Rate']\n",
        "b = df['Special Ed Population']\n",
        "c = df['Percent DF Schools']\n",
        "df['Povrate2'] = a*a\n",
        "df['Specpop2'] = b*b\n",
        "df['DFschool2'] = c*c\n",
        "df['PovrateSpec'] = a*b\n",
        "df['PovrateDF'] = a*c\n",
        "df['SpecDF'] = b*c\n",
        "X = df[['Poverty Rate', 'Special Ed Population', 'Percent DF Schools', 'Povrate2', \n",
        "        'Specpop2', 'DFschool2','PovrateSpec', 'PovrateDF', 'SpecDF']]\n",
        "X = sm.add_constant(X)\n",
        "y = df['ESA_Part_Rate']\n",
        "model1 = sm.OLS(y, X).fit()\n",
        "print(model1.summary())"
      ],
      "execution_count": null,
      "outputs": [
        {
          "output_type": "stream",
          "text": [
            "                            OLS Regression Results                            \n",
            "==============================================================================\n",
            "Dep. Variable:          ESA_Part_Rate   R-squared:                       0.395\n",
            "Model:                            OLS   Adj. R-squared:                  0.353\n",
            "Method:                 Least Squares   F-statistic:                     9.443\n",
            "Date:                Mon, 26 Oct 2020   Prob (F-statistic):           5.70e-11\n",
            "Time:                        04:59:21   Log-Likelihood:                 474.51\n",
            "No. Observations:                 140   AIC:                            -929.0\n",
            "Df Residuals:                     130   BIC:                            -899.6\n",
            "Df Model:                           9                                         \n",
            "Covariance Type:            nonrobust                                         \n",
            "=========================================================================================\n",
            "                            coef    std err          t      P>|t|      [0.025      0.975]\n",
            "-----------------------------------------------------------------------------------------\n",
            "const                     0.0072      0.010      0.706      0.481      -0.013       0.027\n",
            "Poverty Rate             -0.0178      0.052     -0.344      0.732      -0.120       0.085\n",
            "Special Ed Population     0.0582      0.123      0.473      0.637      -0.186       0.302\n",
            "Percent DF Schools       -0.0490      0.018     -2.770      0.006      -0.084      -0.014\n",
            "Povrate2                 -0.0401      0.073     -0.550      0.583      -0.184       0.104\n",
            "Specpop2                 -0.3859      0.449     -0.859      0.392      -1.275       0.503\n",
            "DFschool2                 0.0036      0.009      0.402      0.688      -0.014       0.022\n",
            "PovrateSpec               0.0870      0.286      0.304      0.762      -0.479       0.653\n",
            "PovrateDF                 0.1534      0.028      5.412      0.000       0.097       0.209\n",
            "SpecDF                    0.1430      0.100      1.431      0.155      -0.055       0.341\n",
            "==============================================================================\n",
            "Omnibus:                       95.812   Durbin-Watson:                   1.851\n",
            "Prob(Omnibus):                  0.000   Jarque-Bera (JB):              890.670\n",
            "Skew:                           2.271   Prob(JB):                    3.92e-194\n",
            "Kurtosis:                      14.491   Cond. No.                         696.\n",
            "==============================================================================\n",
            "\n",
            "Warnings:\n",
            "[1] Standard Errors assume that the covariance matrix of the errors is correctly specified.\n"
          ],
          "name": "stdout"
        }
      ]
    },
    {
      "cell_type": "code",
      "metadata": {
        "id": "ylY7aWbcS5Y-",
        "colab": {
          "base_uri": "https://localhost:8080/",
          "height": 573
        },
        "outputId": "53eceae2-a798-45ae-ae5c-1101c877b92b"
      },
      "source": [
        "X = df[['Poverty Rate', 'Special Ed Population', 'Percent DF Schools', 'Povrate2', \n",
        "        'Specpop2', 'DFschool2', 'PovrateDF', 'SpecDF']]\n",
        "X = sm.add_constant(X)\n",
        "y = df['ESA_Part_Rate']\n",
        "model1 = sm.OLS(y, X).fit()\n",
        "print(model1.summary())"
      ],
      "execution_count": null,
      "outputs": [
        {
          "output_type": "stream",
          "text": [
            "                            OLS Regression Results                            \n",
            "==============================================================================\n",
            "Dep. Variable:          ESA_Part_Rate   R-squared:                       0.395\n",
            "Model:                            OLS   Adj. R-squared:                  0.358\n",
            "Method:                 Least Squares   F-statistic:                     10.69\n",
            "Date:                Mon, 26 Oct 2020   Prob (F-statistic):           1.74e-11\n",
            "Time:                        04:59:22   Log-Likelihood:                 474.46\n",
            "No. Observations:                 140   AIC:                            -930.9\n",
            "Df Residuals:                     131   BIC:                            -904.4\n",
            "Df Model:                           8                                         \n",
            "Covariance Type:            nonrobust                                         \n",
            "=========================================================================================\n",
            "                            coef    std err          t      P>|t|      [0.025      0.975]\n",
            "-----------------------------------------------------------------------------------------\n",
            "const                     0.0053      0.008      0.660      0.510      -0.011       0.021\n",
            "Poverty Rate             -0.0058      0.033     -0.173      0.863      -0.071       0.060\n",
            "Special Ed Population     0.0716      0.115      0.624      0.534      -0.155       0.299\n",
            "Percent DF Schools       -0.0514      0.016     -3.280      0.001      -0.082      -0.020\n",
            "Povrate2                 -0.0443      0.071     -0.622      0.535      -0.185       0.097\n",
            "Specpop2                 -0.3710      0.445     -0.834      0.406      -1.251       0.509\n",
            "DFschool2                 0.0038      0.009      0.420      0.675      -0.014       0.022\n",
            "PovrateDF                 0.1558      0.027      5.762      0.000       0.102       0.209\n",
            "SpecDF                    0.1559      0.090      1.728      0.086      -0.023       0.334\n",
            "==============================================================================\n",
            "Omnibus:                       96.108   Durbin-Watson:                   1.843\n",
            "Prob(Omnibus):                  0.000   Jarque-Bera (JB):              896.349\n",
            "Skew:                           2.280   Prob(JB):                    2.29e-195\n",
            "Kurtosis:                      14.527   Cond. No.                         693.\n",
            "==============================================================================\n",
            "\n",
            "Warnings:\n",
            "[1] Standard Errors assume that the covariance matrix of the errors is correctly specified.\n"
          ],
          "name": "stdout"
        }
      ]
    },
    {
      "cell_type": "code",
      "metadata": {
        "id": "U9eexhjjTesr",
        "colab": {
          "base_uri": "https://localhost:8080/",
          "height": 555
        },
        "outputId": "ff979072-0e79-4999-e83e-d7a2bc9d369f"
      },
      "source": [
        "X = df[['Special Ed Population', 'Percent DF Schools', 'Povrate2', \n",
        "        'Specpop2', 'DFschool2', 'PovrateDF', 'SpecDF']]\n",
        "X = sm.add_constant(X)\n",
        "y = df['ESA_Part_Rate']\n",
        "model1 = sm.OLS(y, X).fit()\n",
        "print(model1.summary())"
      ],
      "execution_count": null,
      "outputs": [
        {
          "output_type": "stream",
          "text": [
            "                            OLS Regression Results                            \n",
            "==============================================================================\n",
            "Dep. Variable:          ESA_Part_Rate   R-squared:                       0.395\n",
            "Model:                            OLS   Adj. R-squared:                  0.363\n",
            "Method:                 Least Squares   F-statistic:                     12.30\n",
            "Date:                Mon, 26 Oct 2020   Prob (F-statistic):           4.78e-12\n",
            "Time:                        04:59:24   Log-Likelihood:                 474.44\n",
            "No. Observations:                 140   AIC:                            -932.9\n",
            "Df Residuals:                     132   BIC:                            -909.4\n",
            "Df Model:                           7                                         \n",
            "Covariance Type:            nonrobust                                         \n",
            "=========================================================================================\n",
            "                            coef    std err          t      P>|t|      [0.025      0.975]\n",
            "-----------------------------------------------------------------------------------------\n",
            "const                     0.0049      0.008      0.641      0.523      -0.010       0.020\n",
            "Special Ed Population     0.0711      0.114      0.622      0.535      -0.155       0.297\n",
            "Percent DF Schools       -0.0522      0.015     -3.488      0.001      -0.082      -0.023\n",
            "Povrate2                 -0.0562      0.021     -2.725      0.007      -0.097      -0.015\n",
            "Specpop2                 -0.3744      0.443     -0.845      0.400      -1.251       0.502\n",
            "DFschool2                 0.0040      0.009      0.447      0.655      -0.014       0.022\n",
            "PovrateDF                 0.1575      0.025      6.235      0.000       0.108       0.207\n",
            "SpecDF                    0.1575      0.089      1.761      0.081      -0.019       0.334\n",
            "==============================================================================\n",
            "Omnibus:                       95.788   Durbin-Watson:                   1.849\n",
            "Prob(Omnibus):                  0.000   Jarque-Bera (JB):              888.987\n",
            "Skew:                           2.271   Prob(JB):                    9.10e-194\n",
            "Kurtosis:                      14.479   Cond. No.                         676.\n",
            "==============================================================================\n",
            "\n",
            "Warnings:\n",
            "[1] Standard Errors assume that the covariance matrix of the errors is correctly specified.\n"
          ],
          "name": "stdout"
        }
      ]
    },
    {
      "cell_type": "markdown",
      "metadata": {
        "id": "7rx10VOfVTWc"
      },
      "source": [
        "This appears to be the correct model specification since it passed the RESET test this time"
      ]
    },
    {
      "cell_type": "markdown",
      "metadata": {
        "id": "8jmFn92J3Bn1"
      },
      "source": [
        "# Guass-Markov Assumptions\n",
        "\n",
        "It appears that the model satisfies the assumptions:\n",
        "\n",
        "- Linear in parameters. (MLR.1)\n",
        "- Independent obsevations of the population. (MLR.2)\n",
        "- No perfect collinearity. (MLR.3)\n",
        "- The error u has an expected value of zero given any values of the independent variables. (MLR.4)\n",
        "- The error u has the same variance given any value of the explanatory variables. (MLR.5)\n",
        "\n",
        "\n"
      ]
    },
    {
      "cell_type": "markdown",
      "metadata": {
        "id": "bmYTPd1Yjwx8"
      },
      "source": [
        "# New Models"
      ]
    },
    {
      "cell_type": "code",
      "metadata": {
        "id": "kNFQliHn1MOp",
        "colab": {
          "base_uri": "https://localhost:8080/",
          "height": 469
        },
        "outputId": "c4166efc-e26c-4724-c0c5-f019f51db1e0"
      },
      "source": [
        "#Y = C + Need + Rich + Need*Rich + e\n",
        "df['PovrateSpecEd'] = df['Poverty Rate']*df['Special Ed Population']\n",
        "X = df[['Poverty Rate','Special Ed Population','PovrateSpecEd']]\n",
        "y = df['ESA_Part_Rate']\n",
        "model1 = sm.OLS(y, X).fit(cov_type='HC3')\n",
        "print(model1.summary())"
      ],
      "execution_count": null,
      "outputs": [
        {
          "output_type": "stream",
          "text": [
            "                                 OLS Regression Results                                \n",
            "=======================================================================================\n",
            "Dep. Variable:          ESA_Part_Rate   R-squared (uncentered):                   0.363\n",
            "Model:                            OLS   Adj. R-squared (uncentered):              0.349\n",
            "Method:                 Least Squares   F-statistic:                              46.84\n",
            "Date:                Mon, 26 Oct 2020   Prob (F-statistic):                    6.71e-21\n",
            "Time:                        04:59:28   Log-Likelihood:                          444.04\n",
            "No. Observations:                 140   AIC:                                     -882.1\n",
            "Df Residuals:                     137   BIC:                                     -873.3\n",
            "Df Model:                           3                                                  \n",
            "Covariance Type:                  HC3                                                  \n",
            "=========================================================================================\n",
            "                            coef    std err          z      P>|z|      [0.025      0.975]\n",
            "-----------------------------------------------------------------------------------------\n",
            "Poverty Rate              0.0021      0.025      0.084      0.933      -0.047       0.051\n",
            "Special Ed Population     0.0119      0.021      0.563      0.573      -0.030       0.053\n",
            "PovrateSpecEd             0.1729      0.235      0.734      0.463      -0.289       0.634\n",
            "==============================================================================\n",
            "Omnibus:                      131.269   Durbin-Watson:                   1.941\n",
            "Prob(Omnibus):                  0.000   Jarque-Bera (JB):             1620.114\n",
            "Skew:                           3.435   Prob(JB):                         0.00\n",
            "Kurtosis:                      18.183   Cond. No.                         35.1\n",
            "==============================================================================\n",
            "\n",
            "Warnings:\n",
            "[1] Standard Errors are heteroscedasticity robust (HC3)\n"
          ],
          "name": "stdout"
        }
      ]
    },
    {
      "cell_type": "code",
      "metadata": {
        "id": "DUu8AmU0319-",
        "colab": {
          "base_uri": "https://localhost:8080/",
          "height": 295
        },
        "outputId": "a02d8810-181b-4cf2-fa32-d7538efcb72b"
      },
      "source": [
        "z = 'Residuals'\n",
        "X = df['Povrate2']\n",
        "y = model1.resid\n",
        "plt.scatter(X,y)\n",
        "plt.ylabel(z)\n",
        "plt.xlabel(X.name)\n",
        "plt.title(X.name + ' vs ' + z)\n",
        "plt.show()"
      ],
      "execution_count": null,
      "outputs": [
        {
          "output_type": "display_data",
          "data": {
            "image/png": "[encoded data removed]",
            "text/plain": [
              "<Figure size 432x288 with 1 Axes>"
            ]
          },
          "metadata": {
            "tags": [],
            "needs_background": "light"
          }
        }
      ]
    },
    {
      "cell_type": "code",
      "metadata": {
        "id": "gJhpYhzA4bN_",
        "colab": {
          "base_uri": "https://localhost:8080/",
          "height": 295
        },
        "outputId": "7fbfd935-61ca-4b09-b821-c0d860f1b185"
      },
      "source": [
        "X = df['Poverty Rate']\n",
        "plt.scatter(X,y)\n",
        "plt.ylabel(z)\n",
        "plt.xlabel(X.name)\n",
        "plt.title(X.name + ' vs ' + z)\n",
        "plt.show()"
      ],
      "execution_count": null,
      "outputs": [
        {
          "output_type": "display_data",
          "data": {
            "image/png": "[encoded data removed]",
            "text/plain": [
              "<Figure size 432x288 with 1 Axes>"
            ]
          },
          "metadata": {
            "tags": [],
            "needs_background": "light"
          }
        }
      ]
    },
    {
      "cell_type": "code",
      "metadata": {
        "id": "UWLSOJ0j4vZw",
        "colab": {
          "base_uri": "https://localhost:8080/",
          "height": 451
        },
        "outputId": "a0dbfe51-f23f-47a0-f5cc-81576c8d0f80"
      },
      "source": [
        "X = df[['Poverty Rate', 'Povrate2']]\n",
        "y = df['ESA_Part_Rate']\n",
        "model1 = sm.OLS(y, X).fit(cov_type='HC3')\n",
        "print(model1.summary())"
      ],
      "execution_count": null,
      "outputs": [
        {
          "output_type": "stream",
          "text": [
            "                                 OLS Regression Results                                \n",
            "=======================================================================================\n",
            "Dep. Variable:          ESA_Part_Rate   R-squared (uncentered):                   0.338\n",
            "Model:                            OLS   Adj. R-squared (uncentered):              0.329\n",
            "Method:                 Least Squares   F-statistic:                              44.03\n",
            "Date:                Mon, 26 Oct 2020   Prob (F-statistic):                    1.62e-15\n",
            "Time:                        04:59:32   Log-Likelihood:                          441.33\n",
            "No. Observations:                 140   AIC:                                     -878.7\n",
            "Df Residuals:                     138   BIC:                                     -872.8\n",
            "Df Model:                           2                                                  \n",
            "Covariance Type:                  HC3                                                  \n",
            "================================================================================\n",
            "                   coef    std err          z      P>|z|      [0.025      0.975]\n",
            "--------------------------------------------------------------------------------\n",
            "Poverty Rate     0.0251      0.016      1.565      0.118      -0.006       0.057\n",
            "Povrate2         0.0148      0.065      0.227      0.821      -0.113       0.142\n",
            "==============================================================================\n",
            "Omnibus:                      115.549   Durbin-Watson:                   1.942\n",
            "Prob(Omnibus):                  0.000   Jarque-Bera (JB):             1052.768\n",
            "Skew:                           2.992   Prob(JB):                    2.48e-229\n",
            "Kurtosis:                      15.028   Cond. No.                         11.3\n",
            "==============================================================================\n",
            "\n",
            "Warnings:\n",
            "[1] Standard Errors are heteroscedasticity robust (HC3)\n"
          ],
          "name": "stdout"
        }
      ]
    },
    {
      "cell_type": "code",
      "metadata": {
        "id": "VhVbE4zQ44-Z",
        "colab": {
          "base_uri": "https://localhost:8080/",
          "height": 295
        },
        "outputId": "07c164fc-cd78-471c-e6ea-0b48593e3264"
      },
      "source": [
        "z = 'Residuals'\n",
        "X = df['Povrate2']\n",
        "y = model1.resid\n",
        "plt.scatter(X,y)\n",
        "plt.ylabel(z)\n",
        "plt.xlabel(X.name)\n",
        "plt.title(X.name + ' vs ' + z)\n",
        "plt.show()"
      ],
      "execution_count": null,
      "outputs": [
        {
          "output_type": "display_data",
          "data": {
            "image/png": "[encoded data removed]",
            "text/plain": [
              "<Figure size 432x288 with 1 Axes>"
            ]
          },
          "metadata": {
            "tags": [],
            "needs_background": "light"
          }
        }
      ]
    },
    {
      "cell_type": "code",
      "metadata": {
        "id": "5Crgo5LK4-s8",
        "colab": {
          "base_uri": "https://localhost:8080/",
          "height": 295
        },
        "outputId": "df01fc80-47e9-4112-ed98-eb76ab4c338c"
      },
      "source": [
        "X = df['Poverty Rate']\n",
        "plt.scatter(X,y)\n",
        "plt.ylabel(z)\n",
        "plt.xlabel(X.name)\n",
        "plt.title(X.name + ' vs ' + z)\n",
        "plt.show()"
      ],
      "execution_count": null,
      "outputs": [
        {
          "output_type": "display_data",
          "data": {
            "image/png": "[encoded data removed]",
            "text/plain": [
              "<Figure size 432x288 with 1 Axes>"
            ]
          },
          "metadata": {
            "tags": [],
            "needs_background": "light"
          }
        }
      ]
    },
    {
      "cell_type": "markdown",
      "metadata": {
        "id": "uzbgstM7Y5Kj"
      },
      "source": [
        "# Final Model Used in Thesis"
      ]
    },
    {
      "cell_type": "markdown",
      "metadata": {
        "id": "sofjovnbEDkn"
      },
      "source": [
        "## Y = C + Need + Rich + Need*Rich"
      ]
    },
    {
      "cell_type": "code",
      "metadata": {
        "id": "SO6i0bQ9OA5Z"
      },
      "source": [
        "import statistics as stat\n",
        "\n",
        "stat.median(df['Poverty Rate'])\n",
        "df[\"Rich\"] = (df[\"Poverty Rate\"] >= df[\"Poverty Rate\"].median())*1"
      ],
      "execution_count": null,
      "outputs": []
    },
    {
      "cell_type": "code",
      "metadata": {
        "id": "_JL538koPOAo",
        "colab": {
          "base_uri": "https://localhost:8080/",
          "height": 486
        },
        "outputId": "6edbe924-8feb-4935-967a-3e54f09374ff"
      },
      "source": [
        "#Y = C + Need + Rich + Need*Rich\n",
        "df['RichSpecEd'] = df['Special Ed Population']*df['Rich']\n",
        "X = df[['Rich','Special Ed Population','RichSpecEd']]\n",
        "X = sm.add_constant(X)\n",
        "y = df['ESA_Part_Rate']\n",
        "model1 = sm.OLS(y, X).fit(cov_type='HC3')\n",
        "print(model1.summary())"
      ],
      "execution_count": null,
      "outputs": [
        {
          "output_type": "stream",
          "text": [
            "                            OLS Regression Results                            \n",
            "==============================================================================\n",
            "Dep. Variable:          ESA_Part_Rate   R-squared:                       0.052\n",
            "Model:                            OLS   Adj. R-squared:                  0.031\n",
            "Method:                 Least Squares   F-statistic:                     1.046\n",
            "Date:                Mon, 26 Oct 2020   Prob (F-statistic):              0.375\n",
            "Time:                        04:59:39   Log-Likelihood:                 443.06\n",
            "No. Observations:                 140   AIC:                            -878.1\n",
            "Df Residuals:                     136   BIC:                            -866.4\n",
            "Df Model:                           3                                         \n",
            "Covariance Type:                  HC3                                         \n",
            "=========================================================================================\n",
            "                            coef    std err          z      P>|z|      [0.025      0.975]\n",
            "-----------------------------------------------------------------------------------------\n",
            "const                     0.0096      0.004      2.165      0.030       0.001       0.018\n",
            "Rich                     -0.0118      0.010     -1.128      0.259      -0.032       0.009\n",
            "Special Ed Population    -0.0275      0.032     -0.850      0.395      -0.091       0.036\n",
            "RichSpecEd                0.1101      0.084      1.317      0.188      -0.054       0.274\n",
            "==============================================================================\n",
            "Omnibus:                      148.605   Durbin-Watson:                   2.000\n",
            "Prob(Omnibus):                  0.000   Jarque-Bera (JB):             2505.195\n",
            "Skew:                           3.982   Prob(JB):                         0.00\n",
            "Kurtosis:                      22.132   Cond. No.                         86.5\n",
            "==============================================================================\n",
            "\n",
            "Warnings:\n",
            "[1] Standard Errors are heteroscedasticity robust (HC3)\n"
          ],
          "name": "stdout"
        }
      ]
    },
    {
      "cell_type": "code",
      "metadata": {
        "id": "QxQ1kzN0Ts26",
        "colab": {
          "base_uri": "https://localhost:8080/",
          "height": 451
        },
        "outputId": "74a63c7e-6c74-40cb-e861-4803e1c3921a"
      },
      "source": [
        "X = df['Special Ed Population']\n",
        "X = sm.add_constant(X)\n",
        "y = df['ESA_Part_Rate']\n",
        "model1 = sm.OLS(y, X).fit()\n",
        "print(model1.summary())"
      ],
      "execution_count": null,
      "outputs": [
        {
          "output_type": "stream",
          "text": [
            "                            OLS Regression Results                            \n",
            "==============================================================================\n",
            "Dep. Variable:          ESA_Part_Rate   R-squared:                       0.014\n",
            "Model:                            OLS   Adj. R-squared:                  0.007\n",
            "Method:                 Least Squares   F-statistic:                     1.926\n",
            "Date:                Mon, 26 Oct 2020   Prob (F-statistic):              0.167\n",
            "Time:                        04:59:41   Log-Likelihood:                 440.27\n",
            "No. Observations:                 140   AIC:                            -876.5\n",
            "Df Residuals:                     138   BIC:                            -870.7\n",
            "Df Model:                           1                                         \n",
            "Covariance Type:            nonrobust                                         \n",
            "=========================================================================================\n",
            "                            coef    std err          t      P>|t|      [0.025      0.975]\n",
            "-----------------------------------------------------------------------------------------\n",
            "const                     0.0024      0.004      0.672      0.503      -0.005       0.009\n",
            "Special Ed Population     0.0378      0.027      1.388      0.167      -0.016       0.092\n",
            "==============================================================================\n",
            "Omnibus:                      151.948   Durbin-Watson:                   1.896\n",
            "Prob(Omnibus):                  0.000   Jarque-Bera (JB):             2553.695\n",
            "Skew:                           4.133   Prob(JB):                         0.00\n",
            "Kurtosis:                      22.221   Cond. No.                         31.2\n",
            "==============================================================================\n",
            "\n",
            "Warnings:\n",
            "[1] Standard Errors assume that the covariance matrix of the errors is correctly specified.\n"
          ],
          "name": "stdout"
        }
      ]
    },
    {
      "cell_type": "code",
      "metadata": {
        "id": "Y-Cqb9vx1L_r"
      },
      "source": [
        "df['Proportion DF Schools'] = df['Percent DF Schools']"
      ],
      "execution_count": null,
      "outputs": []
    },
    {
      "cell_type": "code",
      "metadata": {
        "id": "vPBv1NpiUKpJ",
        "colab": {
          "base_uri": "https://localhost:8080/",
          "height": 486
        },
        "outputId": "9a111182-1f70-440a-b743-5281a2e329c6"
      },
      "source": [
        "#Y = C + Need + Rich + Need*Rich\n",
        "df['RichDF'] = df['Proportion DF Schools']*df['Rich']\n",
        "X = df[['Proportion DF Schools','Rich','RichDF']]\n",
        "X = sm.add_constant(X)\n",
        "y = df['ESA_Part_Rate']\n",
        "model1 = sm.OLS(y, X).fit(cov_type='HC3')\n",
        "print(model1.summary())\n",
        "\n",
        "# Estimate on Proportion DF Schools not statistically diffent from 0"
      ],
      "execution_count": null,
      "outputs": [
        {
          "output_type": "stream",
          "text": [
            "                            OLS Regression Results                            \n",
            "==============================================================================\n",
            "Dep. Variable:          ESA_Part_Rate   R-squared:                       0.274\n",
            "Model:                            OLS   Adj. R-squared:                  0.258\n",
            "Method:                 Least Squares   F-statistic:                     3.577\n",
            "Date:                Mon, 26 Oct 2020   Prob (F-statistic):             0.0157\n",
            "Time:                        07:08:07   Log-Likelihood:                 461.69\n",
            "No. Observations:                 140   AIC:                            -915.4\n",
            "Df Residuals:                     136   BIC:                            -903.6\n",
            "Df Model:                           3                                         \n",
            "Covariance Type:                  HC3                                         \n",
            "=========================================================================================\n",
            "                            coef    std err          z      P>|z|      [0.025      0.975]\n",
            "-----------------------------------------------------------------------------------------\n",
            "const                     0.0063      0.001      9.986      0.000       0.005       0.008\n",
            "Proportion DF Schools    -0.0019      0.002     -1.189      0.234      -0.005       0.001\n",
            "Rich                     -0.0046      0.001     -3.184      0.001      -0.007      -0.002\n",
            "RichDF                    0.0270      0.009      2.903      0.004       0.009       0.045\n",
            "==============================================================================\n",
            "Omnibus:                       93.696   Durbin-Watson:                   1.797\n",
            "Prob(Omnibus):                  0.000   Jarque-Bera (JB):              810.596\n",
            "Skew:                           2.235   Prob(JB):                    9.58e-177\n",
            "Kurtosis:                      13.908   Cond. No.                         10.5\n",
            "==============================================================================\n",
            "\n",
            "Warnings:\n",
            "[1] Standard Errors are heteroscedasticity robust (HC3)\n"
          ],
          "name": "stdout"
        }
      ]
    },
    {
      "cell_type": "code",
      "metadata": {
        "id": "IiCBfk3BDigi",
        "colab": {
          "base_uri": "https://localhost:8080/",
          "height": 69
        },
        "outputId": "d0d317f4-7281-4042-ad8f-39242a72f517"
      },
      "source": [
        "X = df[['Proportion DF Schools','Rich']]\n",
        "vif = pd.DataFrame()\n",
        "vif[\"VIF Factor\"] = [variance_inflation_factor(X.values, i) for i in range(X.shape[1])]\n",
        "vif[\"features\"] = X.columns\n",
        "print(vif.round(1))"
      ],
      "execution_count": null,
      "outputs": [
        {
          "output_type": "stream",
          "text": [
            "   VIF Factor               features\n",
            "0         1.4  Proportion DF Schools\n",
            "1         1.4                   Rich\n"
          ],
          "name": "stdout"
        }
      ]
    },
    {
      "cell_type": "code",
      "metadata": {
        "id": "DuznBzbr_4K1",
        "colab": {
          "base_uri": "https://localhost:8080/",
          "height": 295
        },
        "outputId": "202f79fe-847e-4bb8-e29c-d508bc6b6515"
      },
      "source": [
        "y = df['ESA_Part_Rate']\n",
        "z = y.name\n",
        "X = df['Rich']\n",
        "plt.scatter(X,y)\n",
        "plt.ylabel(z)\n",
        "plt.xlabel(X.name)\n",
        "plt.title(X.name + ' vs ' + z)\n",
        "plt.show()"
      ],
      "execution_count": null,
      "outputs": [
        {
          "output_type": "display_data",
          "data": {
            "image/png": "[encoded data removed]",
            "text/plain": [
              "<Figure size 432x288 with 1 Axes>"
            ]
          },
          "metadata": {
            "tags": [],
            "needs_background": "light"
          }
        }
      ]
    },
    {
      "cell_type": "code",
      "metadata": {
        "id": "Sj0Sm_vA_-Ru",
        "colab": {
          "base_uri": "https://localhost:8080/",
          "height": 295
        },
        "outputId": "70ac8ef3-2afb-4c73-852f-e7957311dfd1"
      },
      "source": [
        "X = df['Percent DF Schools']\n",
        "plt.scatter(X,y)\n",
        "plt.ylabel(z)\n",
        "plt.xlabel(X.name)\n",
        "plt.title(X.name + ' vs ' + z)\n",
        "plt.show()"
      ],
      "execution_count": null,
      "outputs": [
        {
          "output_type": "display_data",
          "data": {
            "image/png": "[encoded data removed]",
            "text/plain": [
              "<Figure size 432x288 with 1 Axes>"
            ]
          },
          "metadata": {
            "tags": [],
            "needs_background": "light"
          }
        }
      ]
    },
    {
      "cell_type": "code",
      "metadata": {
        "id": "y88HlSOTAUJ7",
        "colab": {
          "base_uri": "https://localhost:8080/",
          "height": 295
        },
        "outputId": "e8192457-4b22-4a89-da85-1601c26831de"
      },
      "source": [
        "z = 'Residuals'\n",
        "X = df['Rich']\n",
        "y = model1.resid\n",
        "plt.scatter(X,y)\n",
        "plt.ylabel(z)\n",
        "plt.xlabel(X.name)\n",
        "plt.title(X.name + ' vs ' + z)\n",
        "plt.show()"
      ],
      "execution_count": null,
      "outputs": [
        {
          "output_type": "display_data",
          "data": {
            "image/png": "[encoded data removed]",
            "text/plain": [
              "<Figure size 432x288 with 1 Axes>"
            ]
          },
          "metadata": {
            "tags": [],
            "needs_background": "light"
          }
        }
      ]
    },
    {
      "cell_type": "code",
      "metadata": {
        "id": "yYCL9ifPAcG7",
        "colab": {
          "base_uri": "https://localhost:8080/",
          "height": 295
        },
        "outputId": "416e24ab-3616-45bd-fc05-f72e348706c3"
      },
      "source": [
        "X = df['Percent DF Schools']\n",
        "plt.scatter(X,y)\n",
        "plt.ylabel(z)\n",
        "plt.xlabel(X.name)\n",
        "plt.title(X.name + ' vs ' + z)\n",
        "plt.show()"
      ],
      "execution_count": null,
      "outputs": [
        {
          "output_type": "display_data",
          "data": {
            "image/png": "[encoded data removed]",
            "text/plain": [
              "<Figure size 432x288 with 1 Axes>"
            ]
          },
          "metadata": {
            "tags": [],
            "needs_background": "light"
          }
        }
      ]
    },
    {
      "cell_type": "code",
      "metadata": {
        "id": "B4DinLrVLNkW",
        "colab": {
          "base_uri": "https://localhost:8080/",
          "height": 34
        },
        "outputId": "69498b7a-d295-4579-d08f-b4395f53ce6b"
      },
      "source": [
        "import statistics as stats\n",
        "\n",
        "stats.median(df['Percent DF Schools'])"
      ],
      "execution_count": null,
      "outputs": [
        {
          "output_type": "execute_result",
          "data": {
            "text/plain": [
              "0.0"
            ]
          },
          "metadata": {
            "tags": []
          },
          "execution_count": 35
        }
      ]
    },
    {
      "cell_type": "code",
      "metadata": {
        "id": "90IoIBpaWCXg",
        "colab": {
          "base_uri": "https://localhost:8080/",
          "height": 86
        },
        "outputId": "618f6a90-f0bc-4fe1-8496-8c95123293a1"
      },
      "source": [
        "import pandas\n",
        "df['Percent DF Schools'].quantile([0.25,0.5,0.75])"
      ],
      "execution_count": null,
      "outputs": [
        {
          "output_type": "execute_result",
          "data": {
            "text/plain": [
              "0.25    0.000000\n",
              "0.50    0.000000\n",
              "0.75    0.265873\n",
              "Name: Percent DF Schools, dtype: float64"
            ]
          },
          "metadata": {
            "tags": []
          },
          "execution_count": 36
        }
      ]
    },
    {
      "cell_type": "code",
      "metadata": {
        "id": "M-q5ApWhQoUa",
        "colab": {
          "base_uri": "https://localhost:8080/",
          "height": 295
        },
        "outputId": "093b7dc1-3acc-4097-b5d0-fdc9d603b2ea"
      },
      "source": [
        "DF = df['Percent DF Schools']\n",
        "R1 = 1\n",
        "y1 = 0.0063-0.0019*DF-0.0046*R1+0.027*DF*R1\n",
        "\n",
        "DF = df['Percent DF Schools']\n",
        "R2 = 0\n",
        "y2 = 0.0063-0.0019*DF-0.0046*R2+0.027*DF*R2\n",
        "plt.plot(DF,y1,label='Rich = 1', color = 'darkorange')\n",
        "plt.plot(DF,y2,label='Rich = 0', color = 'blue')\n",
        "plt.legend(bbox_to_anchor=(1.05, 1), loc='upper left', borderaxespad=0.)\n",
        "plt.xlabel(X.name)\n",
        "plt.title('Graph of ESA Rate = 0.0063-0.0019*DF-0.0046*Rich+0.027*DF*Rich')\n",
        "plt.show()"
      ],
      "execution_count": null,
      "outputs": [
        {
          "output_type": "display_data",
          "data": {
            "image/png": "[encoded data removed]",
            "text/plain": [
              "<Figure size 432x288 with 1 Axes>"
            ]
          },
          "metadata": {
            "tags": [],
            "needs_background": "light"
          }
        }
      ]
    }
  ]
}